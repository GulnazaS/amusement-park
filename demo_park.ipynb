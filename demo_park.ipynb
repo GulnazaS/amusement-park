{
 "cells": [
  {
   "cell_type": "markdown",
   "metadata": {},
   "source": [
    "# Проверка работы Парка аттракционов "
   ]
  },
  {
   "cell_type": "code",
   "execution_count": 11,
   "metadata": {},
   "outputs": [],
   "source": [
    "from amusement_park import AmusementPark\n",
    "from attraction import Attraction\n",
    "from theater import Theater\n",
    "from food import Food\n",
    "from cafe import Cafe\n",
    "from bakery import Bakery\n",
    "from shop import Shop\n",
    "from goods import Goods\n",
    "\n",
    "from location_action import Location_Action\n",
    "from location_with_goods import LocationWithGoods"
   ]
  },
  {
   "cell_type": "markdown",
   "metadata": {},
   "source": [
    "## Создание парка"
   ]
  },
  {
   "cell_type": "code",
   "execution_count": 2,
   "metadata": {},
   "outputs": [],
   "source": [
    "park = AmusementPark(max_locations = 10)"
   ]
  },
  {
   "cell_type": "markdown",
   "metadata": {},
   "source": [
    "## Аттракционы\n"
   ]
  },
  {
   "cell_type": "code",
   "execution_count": 3,
   "metadata": {},
   "outputs": [],
   "source": [
    "attr1 = Attraction('Большая карусель', 'У озера', opening_hours = (10, 20), description = 'Самая большая карусель в парке', active = False)\n",
    "attr1.add_action(name='Карусель 1.1', duration=10, min_age=5, max_age=15)\n",
    "attr1.add_action(name='Карусель 1.2', duration=12, min_age=4, max_age=11)\n",
    "\n",
    "attr2 = Attraction('Колесо обозрения', '-', opening_hours = (10, 20), description = 'Живописная панорама Иртыша и города с высоты 68 метров действительно захватывает дух!')\n",
    "attr2.add_action(name='Режим 2.1', duration=12, min_age=4, max_age=11)\n",
    "\n",
    "park.add_location(attr1)\n",
    "park.add_location(attr2)"
   ]
  },
  {
   "cell_type": "markdown",
   "metadata": {},
   "source": [
    "## Театр"
   ]
  },
  {
   "cell_type": "code",
   "execution_count": 5,
   "metadata": {},
   "outputs": [],
   "source": [
    "theater1 = Theater(name=\"Театр Супер\", address=\"За забором\", opening_hours = (10, 20), \n",
    "                   description=\"Самый крутой театр\", number_of_seats=150, actors=('Иванов', 'Петров', 'Сидоров', 'Дж.Клуни'))\n",
    "theater1.add_action(name='Спектакль 1', duration=12, min_age=4, max_age=11)\n",
    "theater1.add_action(name='Спектакль 2', duration=12, min_age=4, max_age=11)\n",
    "\n",
    "# Добавление в парк\n",
    "park.add_location(theater1)"
   ]
  },
  {
   "cell_type": "markdown",
   "metadata": {},
   "source": [
    "## Кафе"
   ]
  },
  {
   "cell_type": "code",
   "execution_count": 6,
   "metadata": {},
   "outputs": [],
   "source": [
    "cafe1 = Cafe(\n",
    "    \"Восточная кухня\",\n",
    "    \"Ресторан высокой кухни\",\n",
    "    \"Гурман Парк\",\n",
    "    \"Улица Вкуса, 10\",\n",
    "    (\"10:00\", \"22:00\"),\n",
    "    \"Лучшие блюда со всего мира.\")\n",
    "\n",
    "cafe1.add_good(Food('Шурпа', 4.5, 'Завтра', weight=1500))\n",
    "cafe1.add_good(Food('Плов', 3.20, 'Завтра', weight=300))\n",
    "park.add_location(cafe1)"
   ]
  },
  {
   "cell_type": "markdown",
   "metadata": {},
   "source": [
    "## Кулинария"
   ]
  },
  {
   "cell_type": "code",
   "execution_count": 7,
   "metadata": {},
   "outputs": [],
   "source": [
    "bakery1 = Bakery(\n",
    "    name = \"Выпечка\",\n",
    "    address = \"Улица Вкуса, 10\",\n",
    "    opening_hours = (\"10:00\", \"22:00\"),\n",
    "    description = \"Лучшие десерты.\"\n",
    ")\n",
    "\n",
    "from food import Food\n",
    "\n",
    "bakery1.add_good(Food('Круасан', 4.5, 'Завтра', weight=1500))\n",
    "bakery1.add_good(Food('Пончик', 3.20, 'Завтра', weight=300), is_main_dessert = True)\n",
    "\n",
    "bakery2 = Bakery(\n",
    "    name = \"Пирожки\",\n",
    "    address = \"Улица Вкуса, 10\",\n",
    "    opening_hours = (\"10:00\", \"22:00\"),\n",
    "    description = \"Пирожки как у бабушки.\"\n",
    ")\n",
    "\n",
    "from food import Food\n",
    "\n",
    "bakery2.add_good(Food('Эчпочмак', 4.5, 'Завтра', weight=1500))\n",
    "bakery2.add_good(Food('Перепечи с колбасками', 3.20, 'Завтра', weight=300), is_main_dessert = True)\n",
    "\n",
    "\n",
    "park.add_location(bakery1)\n",
    "park.add_location(bakery2)"
   ]
  },
  {
   "cell_type": "markdown",
   "metadata": {},
   "source": [
    "## Магазин"
   ]
  },
  {
   "cell_type": "code",
   "execution_count": 8,
   "metadata": {},
   "outputs": [],
   "source": [
    "# Создать магазин\n",
    "souvenir_shop = Shop(\"Магазин сувениров\",\"Магазин сувениров\", \"Рядом с центральной площадью\")\n",
    "\n",
    "# Создать товары\n",
    "magnet = Goods(name=\"Магнит\", price=50, expiration_date=\"2025-01-01\", description=\"Сувенирный магнит\")\n",
    "t_shirt = Goods(name=\"Футболка\", price=500, expiration_date=\"2025-01-01\", description=\"Футболка с логотипом парка\")\n",
    "\n",
    "# Добавить товары в магазин\n",
    "souvenir_shop.add_to_warehouse(magnet, 100)\n",
    "souvenir_shop.add_to_warehouse(t_shirt, 50)\n",
    "\n",
    "# добавить магазин в парк\n",
    "park.add_location(souvenir_shop)"
   ]
  },
  {
   "cell_type": "markdown",
   "metadata": {},
   "source": [
    "## Обзор парка"
   ]
  },
  {
   "cell_type": "code",
   "execution_count": 28,
   "metadata": {},
   "outputs": [
    {
     "name": "stdout",
     "output_type": "stream",
     "text": [
      "Большая карусель\n",
      "  представления: dict_keys(['Карусель 1.1', 'Карусель 1.2'])\n",
      "Колесо обозрения\n",
      "  представления: dict_keys(['Режим 2.1'])\n",
      "Театр Супер\n",
      "  представления: dict_keys(['Спектакль 1', 'Спектакль 2'])\n",
      "Восточная кухня\n",
      "  меню: [('Шурпа', 'Без акции'), ('Плов', 'Без акции')]\n",
      "Выпечка\n",
      "  меню: [('Круасан', 'Без акции'), ('Пончик', 'Без акции')]\n",
      "Пирожки\n",
      "  меню: [('Эчпочмак', 'Без акции'), ('Перепечи с колбасками', 'Без акции')]\n",
      "Магазин сувениров\n",
      "  меню: []\n"
     ]
    }
   ],
   "source": [
    "for location_name in park.locations:\n",
    "    location = park.locations[location_name]\n",
    "    print(location_name)\n",
    "    if isinstance(location, LocationWithGoods):\n",
    "        print(f'  меню: {location.get_goods()}')\n",
    "    if isinstance(location, Location_Action):\n",
    "        print(f'  представления: {location.actions.keys()}')\n"
   ]
  }
 ],
 "metadata": {
  "kernelspec": {
   "display_name": ".venv",
   "language": "python",
   "name": "python3"
  },
  "language_info": {
   "codemirror_mode": {
    "name": "ipython",
    "version": 3
   },
   "file_extension": ".py",
   "mimetype": "text/x-python",
   "name": "python",
   "nbconvert_exporter": "python",
   "pygments_lexer": "ipython3",
   "version": "3.12.3"
  }
 },
 "nbformat": 4,
 "nbformat_minor": 2
}
