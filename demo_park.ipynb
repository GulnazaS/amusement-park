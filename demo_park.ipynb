{
 "cells": [
  {
   "cell_type": "markdown",
   "metadata": {},
   "source": [
    "# Проверка работы Парка аттракционов "
   ]
  },
  {
   "cell_type": "markdown",
   "metadata": {},
   "source": [
    "## Создание парка"
   ]
  },
  {
   "cell_type": "code",
   "execution_count": 1,
   "metadata": {},
   "outputs": [],
   "source": [
    "from amusement_park import AmusementPark\n",
    "park = AmusementPark(max_locations = 10)"
   ]
  },
  {
   "cell_type": "markdown",
   "metadata": {},
   "source": [
    "## Аттракционы\n"
   ]
  },
  {
   "cell_type": "code",
   "execution_count": 2,
   "metadata": {},
   "outputs": [],
   "source": [
    "from attraction import Attraction\n",
    "# Создание\n",
    "attr1 = Attraction('Большая карусель', 'У озера', opening_hours = (10, 20), description = 'Самая большая карусель в парке', active = False)\n",
    "attr1.add_action(name='Карусель 1.1', duration=10, min_age=5, max_age=15)\n",
    "attr1.add_action(name='Карусель 1.2', duration=12, min_age=4, max_age=11)\n",
    "\n",
    "attr2 = Attraction('Колесо обозрения', '-', opening_hours = (10, 20), description = 'Живописная панорама Иртыша и города с высоты 68 метров действительно захватывает дух!')\n",
    "attr2.add_action(name='Режим 2.1', duration=12, min_age=4, max_age=11)\n"
   ]
  },
  {
   "cell_type": "code",
   "execution_count": 3,
   "metadata": {},
   "outputs": [],
   "source": [
    "# Добавление в парк\n",
    "# park.add_location(attr1)\n",
    "# park.add_location(attr2)"
   ]
  },
  {
   "cell_type": "markdown",
   "metadata": {},
   "source": [
    "## Театр"
   ]
  },
  {
   "cell_type": "code",
   "execution_count": 4,
   "metadata": {},
   "outputs": [],
   "source": [
    "# создание театра\n",
    "from theater import Theater\n",
    "theater1 = Theater(name=\"Театр Супер\", address=\"За забором\", opening_hours = (10, 20), \n",
    "                   description=\"Самый крутой театр\", number_of_seats=150, actors=('Иванов', 'Петров', 'Сидоров', 'Дж.Клуни'))\n",
    "theater1.add_action(name='Спектакль 1', duration=12, min_age=4, max_age=11)\n",
    "theater1.add_action(name='Спектакль 2', duration=12, min_age=4, max_age=11)\n",
    "\n"
   ]
  },
  {
   "cell_type": "code",
   "execution_count": 5,
   "metadata": {},
   "outputs": [],
   "source": [
    "# Добавление в парк\n",
    "# park.add_location(theater1)"
   ]
  },
  {
   "cell_type": "markdown",
   "metadata": {},
   "source": [
    "## Кафе"
   ]
  },
  {
   "cell_type": "code",
   "execution_count": 6,
   "metadata": {},
   "outputs": [
    {
     "ename": "ImportError",
     "evalue": "cannot import name 'Cafe' from partially initialized module 'cafe' (most likely due to a circular import) (/home/igel/Projects/ml/amusement-park-/cafe.py)",
     "output_type": "error",
     "traceback": [
      "\u001b[0;31m---------------------------------------------------------------------------\u001b[0m",
      "\u001b[0;31mImportError\u001b[0m                               Traceback (most recent call last)",
      "Cell \u001b[0;32mIn[6], line 1\u001b[0m\n\u001b[0;32m----> 1\u001b[0m \u001b[38;5;28;01mfrom\u001b[39;00m \u001b[38;5;21;01mcafe\u001b[39;00m \u001b[38;5;28;01mimport\u001b[39;00m Cafe\n",
      "File \u001b[0;32m~/Projects/ml/amusement-park-/cafe.py:1\u001b[0m\n\u001b[0;32m----> 1\u001b[0m \u001b[38;5;28;01mfrom\u001b[39;00m \u001b[38;5;21;01mfoodcourt\u001b[39;00m \u001b[38;5;28;01mimport\u001b[39;00m FoodCourt\n\u001b[1;32m      3\u001b[0m \u001b[38;5;28;01mclass\u001b[39;00m \u001b[38;5;21;01mCafe\u001b[39;00m(FoodCourt):\n\u001b[1;32m      4\u001b[0m \u001b[38;5;250m    \u001b[39m\u001b[38;5;124;03m\"\"\"\u001b[39;00m\n\u001b[1;32m      5\u001b[0m \u001b[38;5;124;03m    Класс Кафе, наследующийся от FoodCourt.\u001b[39;00m\n\u001b[1;32m      6\u001b[0m \u001b[38;5;124;03m    \"\"\"\u001b[39;00m\n",
      "File \u001b[0;32m~/Projects/ml/amusement-park-/foodcourt.py:6\u001b[0m\n\u001b[1;32m      1\u001b[0m \u001b[38;5;66;03m# Author: Сахапова Г.М.\u001b[39;00m\n\u001b[1;32m      2\u001b[0m \u001b[38;5;66;03m# Date: 2024-12-05\u001b[39;00m\n\u001b[1;32m      3\u001b[0m \u001b[38;5;66;03m# Description: Класс для создания фудкорта.\u001b[39;00m\n\u001b[1;32m      5\u001b[0m \u001b[38;5;28;01mfrom\u001b[39;00m \u001b[38;5;21;01mlocation_with_goods\u001b[39;00m \u001b[38;5;28;01mimport\u001b[39;00m LocationWithGoods\n\u001b[0;32m----> 6\u001b[0m \u001b[38;5;28;01mfrom\u001b[39;00m \u001b[38;5;21;01mcafe\u001b[39;00m \u001b[38;5;28;01mimport\u001b[39;00m Cafe\n\u001b[1;32m      7\u001b[0m \u001b[38;5;28;01mfrom\u001b[39;00m \u001b[38;5;21;01mfood\u001b[39;00m \u001b[38;5;28;01mimport\u001b[39;00m Food\n\u001b[1;32m     10\u001b[0m \u001b[38;5;28;01mclass\u001b[39;00m \u001b[38;5;21;01mFoodCourt\u001b[39;00m(LocationWithGoods):\n",
      "\u001b[0;31mImportError\u001b[0m: cannot import name 'Cafe' from partially initialized module 'cafe' (most likely due to a circular import) (/home/igel/Projects/ml/amusement-park-/cafe.py)"
     ]
    }
   ],
   "source": [
    "from cafe import Cafe"
   ]
  },
  {
   "cell_type": "markdown",
   "metadata": {},
   "source": [
    "## Кулинария"
   ]
  },
  {
   "cell_type": "code",
   "execution_count": 7,
   "metadata": {},
   "outputs": [
    {
     "ename": "ImportError",
     "evalue": "cannot import name 'FoodCourt' from partially initialized module 'foodcourt' (most likely due to a circular import) (/home/igel/Projects/ml/amusement-park-/foodcourt.py)",
     "output_type": "error",
     "traceback": [
      "\u001b[0;31m---------------------------------------------------------------------------\u001b[0m",
      "\u001b[0;31mImportError\u001b[0m                               Traceback (most recent call last)",
      "Cell \u001b[0;32mIn[7], line 1\u001b[0m\n\u001b[0;32m----> 1\u001b[0m \u001b[38;5;28;01mfrom\u001b[39;00m \u001b[38;5;21;01mbakery\u001b[39;00m \u001b[38;5;28;01mimport\u001b[39;00m Bakery\n",
      "File \u001b[0;32m~/Projects/ml/amusement-park-/bakery.py:1\u001b[0m\n\u001b[0;32m----> 1\u001b[0m \u001b[38;5;28;01mfrom\u001b[39;00m \u001b[38;5;21;01mfoodcourt\u001b[39;00m \u001b[38;5;28;01mimport\u001b[39;00m FoodCourt\n\u001b[1;32m      3\u001b[0m \u001b[38;5;28;01mclass\u001b[39;00m \u001b[38;5;21;01mBakery\u001b[39;00m(FoodCourt):\n\u001b[1;32m      4\u001b[0m \u001b[38;5;250m    \u001b[39m\u001b[38;5;124;03m\"\"\"\u001b[39;00m\n\u001b[1;32m      5\u001b[0m \u001b[38;5;124;03m    Класс Кондитерской, наследующийся от FoodCourt.\u001b[39;00m\n\u001b[1;32m      6\u001b[0m \u001b[38;5;124;03m    \"\"\"\u001b[39;00m\n",
      "File \u001b[0;32m~/Projects/ml/amusement-park-/foodcourt.py:6\u001b[0m\n\u001b[1;32m      1\u001b[0m \u001b[38;5;66;03m# Author: Сахапова Г.М.\u001b[39;00m\n\u001b[1;32m      2\u001b[0m \u001b[38;5;66;03m# Date: 2024-12-05\u001b[39;00m\n\u001b[1;32m      3\u001b[0m \u001b[38;5;66;03m# Description: Класс для создания фудкорта.\u001b[39;00m\n\u001b[1;32m      5\u001b[0m \u001b[38;5;28;01mfrom\u001b[39;00m \u001b[38;5;21;01mlocation_with_goods\u001b[39;00m \u001b[38;5;28;01mimport\u001b[39;00m LocationWithGoods\n\u001b[0;32m----> 6\u001b[0m \u001b[38;5;28;01mfrom\u001b[39;00m \u001b[38;5;21;01mcafe\u001b[39;00m \u001b[38;5;28;01mimport\u001b[39;00m Cafe\n\u001b[1;32m      7\u001b[0m \u001b[38;5;28;01mfrom\u001b[39;00m \u001b[38;5;21;01mfood\u001b[39;00m \u001b[38;5;28;01mimport\u001b[39;00m Food\n\u001b[1;32m     10\u001b[0m \u001b[38;5;28;01mclass\u001b[39;00m \u001b[38;5;21;01mFoodCourt\u001b[39;00m(LocationWithGoods):\n",
      "File \u001b[0;32m~/Projects/ml/amusement-park-/cafe.py:1\u001b[0m\n\u001b[0;32m----> 1\u001b[0m \u001b[38;5;28;01mfrom\u001b[39;00m \u001b[38;5;21;01mfoodcourt\u001b[39;00m \u001b[38;5;28;01mimport\u001b[39;00m FoodCourt\n\u001b[1;32m      3\u001b[0m \u001b[38;5;28;01mclass\u001b[39;00m \u001b[38;5;21;01mCafe\u001b[39;00m(FoodCourt):\n\u001b[1;32m      4\u001b[0m \u001b[38;5;250m    \u001b[39m\u001b[38;5;124;03m\"\"\"\u001b[39;00m\n\u001b[1;32m      5\u001b[0m \u001b[38;5;124;03m    Класс Кафе, наследующийся от FoodCourt.\u001b[39;00m\n\u001b[1;32m      6\u001b[0m \u001b[38;5;124;03m    \"\"\"\u001b[39;00m\n",
      "\u001b[0;31mImportError\u001b[0m: cannot import name 'FoodCourt' from partially initialized module 'foodcourt' (most likely due to a circular import) (/home/igel/Projects/ml/amusement-park-/foodcourt.py)"
     ]
    }
   ],
   "source": [
    "from bakery import Bakery"
   ]
  },
  {
   "cell_type": "markdown",
   "metadata": {},
   "source": [
    "## Магазин"
   ]
  },
  {
   "cell_type": "code",
   "execution_count": 8,
   "metadata": {},
   "outputs": [],
   "source": [
    "from shop import Shop\n",
    "from goods import Goods\n",
    "# Создать магазин\n",
    "souvenir_shop = Shop(\"Магазин сувениров\",\"Магазин сувениров\", \"Рядом с центральной площадью\")\n",
    "\n",
    "# Создать товары\n",
    "magnet = Goods(name=\"Магнит\", price=50, expiration_date=\"2025-01-01\", description=\"Сувенирный магнит\")\n",
    "t_shirt = Goods(name=\"Футболка\", price=500, expiration_date=\"2025-01-01\", description=\"Футболка с логотипом парка\")\n",
    "\n",
    "# Добавить товары в магазин\n",
    "souvenir_shop.add_to_warehouse(magnet, 100)\n",
    "souvenir_shop.add_to_warehouse(t_shirt, 50)\n"
   ]
  },
  {
   "cell_type": "code",
   "execution_count": 9,
   "metadata": {},
   "outputs": [],
   "source": [
    "# Добавление в парк\n",
    "# park.add_location(souvenir_shop)"
   ]
  }
 ],
 "metadata": {
  "kernelspec": {
   "display_name": ".venv",
   "language": "python",
   "name": "python3"
  },
  "language_info": {
   "codemirror_mode": {
    "name": "ipython",
    "version": 3
   },
   "file_extension": ".py",
   "mimetype": "text/x-python",
   "name": "python",
   "nbconvert_exporter": "python",
   "pygments_lexer": "ipython3",
   "version": "3.12.3"
  }
 },
 "nbformat": 4,
 "nbformat_minor": 2
}
